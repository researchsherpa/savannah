{
 "cells": [
  {
   "cell_type": "markdown",
   "id": "9e6dd3b2",
   "metadata": {},
   "source": [
    "# Analyze and Extract Savannah Polygon\n",
    "\n",
    "I'm using the shape file found on the [sagis](https://data-sagis.opendata.arcgis.com/datasets/municipality?geometry=-82.512%2C31.772%2C-79.719%2C32.180) portal.  The file has been downloaded to the data directory.\n",
    "\n",
    "For the extract from the shape file to a geojson file I'm using a [recipe](https://gist.github.com/drmalex07/5a54fc4f1db06a66679e) I found after a brief consultation with google.\n",
    "\n",
    "Steps in this notebook are quite straight forward:\n",
    "\n",
    ">1. Read the file with geopandas and explore the geodataframe.\n",
    ">2. Quick visual display using ipyleaflet.\n",
    ">3. Use the recipe to save the geometry from the geodataframe to a geojson format.\n"
   ]
  },
  {
   "cell_type": "code",
   "execution_count": null,
   "id": "3322e20e-e47a-4e34-bd3c-629b7e12dda6",
   "metadata": {},
   "outputs": [],
   "source": [
    "import geopandas as gpd\n",
    "\n",
    "from ipyleaflet import (Map, GeoJSON,\n",
    "                        GeoData, LayersControl,\n",
    "                        basemaps, basemap_to_tiles)\n",
    "\n",
    "from ipywidgets import Layout \n",
    "import json\n",
    "import geojson\n",
    "import ast\n",
    "\n",
    "from shapely.wkt import loads\n",
    "from shapely.geometry import mapping"
   ]
  },
  {
   "cell_type": "markdown",
   "id": "fb6b1b11-ce5b-4107-9cf4-0988ada38e52",
   "metadata": {},
   "source": [
    "## Step 1 - read and explore\n",
    "\n",
    "Not a whole lot to explain on this.  I just wanted to understand what's in it.  Used the square miles to determine that this is the one."
   ]
  },
  {
   "cell_type": "code",
   "execution_count": null,
   "id": "e3c39bdc",
   "metadata": {},
   "outputs": [],
   "source": [
    "municipality_gdf = gpd.read_file('../data/savannah/Municipality.shp')"
   ]
  },
  {
   "cell_type": "code",
   "execution_count": null,
   "id": "5dac4200",
   "metadata": {},
   "outputs": [],
   "source": [
    "municipality_gdf.columns"
   ]
  },
  {
   "cell_type": "code",
   "execution_count": null,
   "id": "c2a480a1",
   "metadata": {},
   "outputs": [],
   "source": [
    "municipality_gdf[['NAME', 'SQ_MILES', 'geometry']]"
   ]
  },
  {
   "cell_type": "code",
   "execution_count": null,
   "id": "3268d2c1",
   "metadata": {},
   "outputs": [],
   "source": [
    "municipality_gdf.iloc[3]"
   ]
  },
  {
   "cell_type": "code",
   "execution_count": null,
   "id": "3069a936",
   "metadata": {},
   "outputs": [],
   "source": [
    "savannah_record = municipality_gdf.iloc[3]\n",
    "savannah = savannah_record.geometry"
   ]
  },
  {
   "cell_type": "code",
   "execution_count": null,
   "id": "ab6037cd",
   "metadata": {},
   "outputs": [],
   "source": [
    "savannah_polygons = list(savannah)"
   ]
  },
  {
   "cell_type": "code",
   "execution_count": null,
   "id": "f36e53bb",
   "metadata": {},
   "outputs": [],
   "source": [
    "len(savannah_polygons)"
   ]
  },
  {
   "cell_type": "code",
   "execution_count": null,
   "id": "f1646849",
   "metadata": {},
   "outputs": [],
   "source": [
    "savannah_polygons"
   ]
  },
  {
   "cell_type": "markdown",
   "id": "329d8aa5-828b-4af8-b73d-d5a5f315322f",
   "metadata": {},
   "source": [
    "## Step 2 - display\n",
    "\n",
    "This is a standard idiom for me.  \n",
    "\n",
    "1. I use the savannah geometry to get the centroid for map positioning\n",
    "2. Create a geodataframe specific to savannah\n",
    "3. Use that dataframe to create overlay for the map."
   ]
  },
  {
   "cell_type": "code",
   "execution_count": null,
   "id": "8a870cc3",
   "metadata": {},
   "outputs": [],
   "source": [
    "x = savannah.centroid.x\n",
    "y = savannah.centroid.y"
   ]
  },
  {
   "cell_type": "code",
   "execution_count": null,
   "id": "e182dd03",
   "metadata": {},
   "outputs": [],
   "source": [
    "savannah_gdf = municipality_gdf.query(f\"NAME == 'SAVANNAH'\").reset_index()"
   ]
  },
  {
   "cell_type": "code",
   "execution_count": null,
   "id": "0453a75d-c562-497d-b5ba-279ea42d7c85",
   "metadata": {},
   "outputs": [],
   "source": [
    "savannah_gdf"
   ]
  },
  {
   "cell_type": "code",
   "execution_count": null,
   "id": "9a89f658",
   "metadata": {},
   "outputs": [],
   "source": [
    "imagery = basemap_to_tiles(basemaps.Esri.WorldImagery)\n",
    "imagery.base = True\n",
    "osm = basemap_to_tiles(basemaps.OpenStreetMap.Mapnik)\n",
    "osm.base = True\n",
    "\n",
    "\n",
    "map_display = Map(center=(y, x), zoom=12,\n",
    "                  layers=[imagery, osm],\n",
    "                  layout=Layout(height=\"900px\"),\n",
    "                  scroll_wheel_zoom=True)\n",
    "\n",
    "map_display.add_control(LayersControl())\n",
    "map_display"
   ]
  },
  {
   "cell_type": "code",
   "execution_count": null,
   "id": "f6d0a94c",
   "metadata": {},
   "outputs": [],
   "source": [
    "municipal_polygons = GeoData(geo_dataframe = savannah_gdf,\n",
    "                             style={'color': 'black', 'fillColor': '#3366cc', 'opacity':0.05, 'weight':1.9, 'dashArray':'2', 'fillOpacity':0.6},\n",
    "                             hover_style={'fillColor': 'red' , 'fillOpacity': 0.2},\n",
    "                             name = 'savannah')\n",
    "\n",
    "map_display += municipal_polygons\n"
   ]
  },
  {
   "cell_type": "markdown",
   "id": "c4aa116e",
   "metadata": {},
   "source": [
    "## Step 3 - generate geojson\n",
    "\n",
    "Result of this section is the output file for use in the treepedia project.\n",
    "\n",
    "Easy to change if other municipalities are important later."
   ]
  },
  {
   "cell_type": "code",
   "execution_count": null,
   "id": "817b23e7",
   "metadata": {},
   "outputs": [],
   "source": [
    "savannah_geo = savannah_gdf.geometry"
   ]
  },
  {
   "cell_type": "code",
   "execution_count": null,
   "id": "ef115737",
   "metadata": {},
   "outputs": [],
   "source": [
    "geojson_string = geojson.dumps(mapping(loads(savannah_geo.iloc[0].wkt)))"
   ]
  },
  {
   "cell_type": "code",
   "execution_count": null,
   "id": "64d1a5f7",
   "metadata": {},
   "outputs": [],
   "source": [
    "geojson_dict = ast.literal_eval(geojson_string)"
   ]
  },
  {
   "cell_type": "code",
   "execution_count": null,
   "id": "dce7d04c",
   "metadata": {},
   "outputs": [],
   "source": [
    "with open('savannah.json', 'w') as geojson_file:\n",
    "    geojson_file.write(json.dumps(geojson_dict))"
   ]
  },
  {
   "cell_type": "code",
   "execution_count": null,
   "id": "6231cbd5",
   "metadata": {},
   "outputs": [],
   "source": [
    "savannah_gdf.iloc[0].geometry"
   ]
  },
  {
   "cell_type": "code",
   "execution_count": null,
   "id": "f35327cf",
   "metadata": {},
   "outputs": [],
   "source": []
  }
 ],
 "metadata": {
  "kernelspec": {
   "display_name": "Python 3",
   "language": "python",
   "name": "python3"
  },
  "language_info": {
   "codemirror_mode": {
    "name": "ipython",
    "version": 3
   },
   "file_extension": ".py",
   "mimetype": "text/x-python",
   "name": "python",
   "nbconvert_exporter": "python",
   "pygments_lexer": "ipython3",
   "version": "3.8.10"
  }
 },
 "nbformat": 4,
 "nbformat_minor": 5
}
